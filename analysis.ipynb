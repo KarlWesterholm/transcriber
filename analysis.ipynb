{
 "cells": [
  {
   "cell_type": "code",
   "execution_count": 12,
   "metadata": {},
   "outputs": [],
   "source": [
    "import pandas as pd"
   ]
  },
  {
   "cell_type": "code",
   "execution_count": 13,
   "metadata": {},
   "outputs": [],
   "source": [
    "def get_transcript_stats(dataframe):\n",
    "    no_english = dataframe[dataframe[\"english_transcript\"].isna() & dataframe[\"german_transcript\"].notna()]\n",
    "    no_german = dataframe[dataframe[\"german_transcript\"].isna() & dataframe[\"english_transcript\"].notna()]\n",
    "    no_transcript = dataframe[dataframe[\"english_transcript\"].isna() & dataframe[\"german_transcript\"].isna()]\n",
    "\n",
    "    print(\"Missing English Transcript:\", len(no_english))\n",
    "    print(\"Missing German Transcript:\", len(no_german))\n",
    "    print(\"No Transcript:\", len(no_transcript))"
   ]
  },
  {
   "cell_type": "code",
   "execution_count": 14,
   "metadata": {},
   "outputs": [],
   "source": [
    "df1 = pd.read_csv(\"afd_10000_april.csv\", index_col=0)\n",
    "df2 = pd.read_csv(\"afd_100000_april.csv\", index_col=0)"
   ]
  },
  {
   "cell_type": "code",
   "execution_count": 15,
   "metadata": {},
   "outputs": [
    {
     "name": "stdout",
     "output_type": "stream",
     "text": [
      "Missing English Transcript: 1\n",
      "Missing German Transcript: 0\n",
      "No Transcript: 37\n"
     ]
    }
   ],
   "source": [
    "get_transcript_stats(df1)"
   ]
  },
  {
   "cell_type": "code",
   "execution_count": 16,
   "metadata": {},
   "outputs": [
    {
     "name": "stdout",
     "output_type": "stream",
     "text": [
      "Missing English Transcript: 0\n",
      "Missing German Transcript: 0\n",
      "No Transcript: 8\n"
     ]
    }
   ],
   "source": [
    "get_transcript_stats(df2)"
   ]
  },
  {
   "cell_type": "code",
   "execution_count": 17,
   "metadata": {},
   "outputs": [
    {
     "name": "stdout",
     "output_type": "stream",
     "text": [
      "Missing English Transcript: 1\n",
      "Missing German Transcript: 0\n",
      "No Transcript: 45\n"
     ]
    }
   ],
   "source": [
    "total_df = pd.concat([df1, df2], ignore_index=True)\n",
    "get_transcript_stats(total_df)"
   ]
  }
 ],
 "metadata": {
  "kernelspec": {
   "display_name": "transcriber",
   "language": "python",
   "name": "python3"
  },
  "language_info": {
   "codemirror_mode": {
    "name": "ipython",
    "version": 3
   },
   "file_extension": ".py",
   "mimetype": "text/x-python",
   "name": "python",
   "nbconvert_exporter": "python",
   "pygments_lexer": "ipython3",
   "version": "3.12.3"
  }
 },
 "nbformat": 4,
 "nbformat_minor": 2
}
