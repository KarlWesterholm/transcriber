{
 "cells": [
  {
   "cell_type": "code",
   "execution_count": 59,
   "metadata": {},
   "outputs": [],
   "source": [
    "import io\n",
    "import requests\n",
    "from datetime import datetime\n",
    "\n",
    "import numpy as np\n",
    "import pandas as pd\n",
    "import webvtt\n",
    "import pyktok as pyk\n",
    "\n",
    "pyk.specify_browser(\"chrome\")"
   ]
  },
  {
   "cell_type": "code",
   "execution_count": 60,
   "metadata": {},
   "outputs": [],
   "source": [
    "user_agent = \"Mozilla/5.0 (Windows NT 10.0; Win64; x64) AppleWebKit/537.36 (KHTML, like Gecko) Chrome/123.0.0.0 Safari/537.36\"\n",
    "headers = {\"User-Agent\": user_agent}"
   ]
  },
  {
   "cell_type": "code",
   "execution_count": 61,
   "metadata": {},
   "outputs": [],
   "source": [
    "url = \"https://www.tiktok.com/@tiktok/video/7361448925972155679?lang=en\""
   ]
  },
  {
   "cell_type": "code",
   "execution_count": 62,
   "metadata": {},
   "outputs": [],
   "source": [
    "tt_json = pyk.alt_get_tiktok_json(url)\n",
    "\n",
    "video_details = tt_json[\"__DEFAULT_SCOPE__\"][\"webapp.video-detail\"][\"itemInfo\"][\"itemStruct\"]\n",
    "\n",
    "for info in video_details[\"video\"][\"subtitleInfos\"]:\n",
    "    if info[\"LanguageCodeName\"] == \"eng-US\":\n",
    "        vtt_link = info[\"Url\"]\n",
    "        break"
   ]
  },
  {
   "cell_type": "code",
   "execution_count": 63,
   "metadata": {},
   "outputs": [],
   "source": [
    "result = requests.get(vtt_link, headers=headers)\n",
    "vtt = result.content.decode()"
   ]
  },
  {
   "cell_type": "code",
   "execution_count": 64,
   "metadata": {},
   "outputs": [],
   "source": [
    "transcript = \"\"\n",
    "\n",
    "for caption in webvtt.read_buffer(io.StringIO(vtt)):\n",
    "    # Eng requires extra space between caption texts\n",
    "    transcript += f\"{caption.text} \""
   ]
  },
  {
   "cell_type": "code",
   "execution_count": 65,
   "metadata": {},
   "outputs": [],
   "source": [
    "if suggested_words := video_details.get(\"suggestedWords\"):\n",
    "    suggested_words = \" / \".join(suggested_words)\n",
    "else:\n",
    "    suggested_words = np.nan"
   ]
  },
  {
   "cell_type": "code",
   "execution_count": 66,
   "metadata": {},
   "outputs": [],
   "source": [
    "meta_data = pyk.generate_data_row(video_obj=video_details)\n",
    "\n",
    "meta_data[\"suggested_words\"] = suggested_words\n",
    "meta_data[\"transcript\"] = transcript\n",
    "\n",
    "meta_data.to_csv(\"meta.csv\")"
   ]
  }
 ],
 "metadata": {
  "kernelspec": {
   "display_name": "transcriber",
   "language": "python",
   "name": "python3"
  },
  "language_info": {
   "codemirror_mode": {
    "name": "ipython",
    "version": 3
   },
   "file_extension": ".py",
   "mimetype": "text/x-python",
   "name": "python",
   "nbconvert_exporter": "python",
   "pygments_lexer": "ipython3",
   "version": "3.12.3"
  }
 },
 "nbformat": 4,
 "nbformat_minor": 2
}
