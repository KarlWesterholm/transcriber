{
 "cells": [
  {
   "cell_type": "code",
   "execution_count": 499,
   "metadata": {},
   "outputs": [],
   "source": [
    "import io\n",
    "import os\n",
    "import requests\n",
    "\n",
    "import numpy as np\n",
    "import pandas as pd\n",
    "import webvtt\n",
    "import pyktok as pyk\n",
    "\n",
    "pyk.specify_browser(\"chrome\")"
   ]
  },
  {
   "cell_type": "markdown",
   "metadata": {},
   "source": [
    "### Establish variables"
   ]
  },
  {
   "cell_type": "code",
   "execution_count": 500,
   "metadata": {},
   "outputs": [],
   "source": [
    "user_agent = \"Mozilla/5.0 (Windows NT 10.0; Win64; x64) AppleWebKit/537.36 (KHTML, like Gecko) Chrome/123.0.0.0 Safari/537.36\"\n",
    "headers = {\"User-Agent\": user_agent}"
   ]
  },
  {
   "cell_type": "code",
   "execution_count": 502,
   "metadata": {
    "tags": [
     "parameters"
    ]
   },
   "outputs": [],
   "source": [
    "url: str"
   ]
  },
  {
   "cell_type": "markdown",
   "metadata": {},
   "source": [
    "### Get the tiktok's json and narrow down to the necessary info"
   ]
  },
  {
   "cell_type": "code",
   "execution_count": 503,
   "metadata": {},
   "outputs": [],
   "source": [
    "tt_json = pyk.alt_get_tiktok_json(url)\n",
    "\n",
    "video_details = tt_json[\"__DEFAULT_SCOPE__\"][\"webapp.video-detail\"][\"itemInfo\"][\"itemStruct\"]"
   ]
  },
  {
   "cell_type": "markdown",
   "metadata": {},
   "source": [
    "### Obtain the transcriptions (if present)"
   ]
  },
  {
   "cell_type": "code",
   "execution_count": 504,
   "metadata": {},
   "outputs": [],
   "source": [
    "vtt_links = {}\n",
    "transcriptions = {}\n",
    "\n",
    "for info in video_details[\"video\"][\"subtitleInfos\"]:\n",
    "    if (language := info[\"LanguageCodeName\"]) in [\"eng-US\", \"deu-DE\"]:\n",
    "        vtt_links[language] = info[\"Url\"]\n",
    "\n",
    "for lang, link in vtt_links.items():\n",
    "    result = requests.get(link, headers=headers)\n",
    "    vtt = result.content.decode()\n",
    "    if vtt:\n",
    "        transcript = \"\"\n",
    "        for caption in webvtt.read_buffer(io.StringIO(vtt)):\n",
    "            # Eng requires extra space between caption texts\n",
    "            transcript += f\"{caption.text} \"\n",
    "    transcriptions[lang] = transcript\n",
    "\n",
    "if not transcriptions:\n",
    "    # save audio/video and perform speech to text\n",
    "    pass"
   ]
  },
  {
   "cell_type": "markdown",
   "metadata": {},
   "source": [
    "### Get list of suggested related searches based on Tiktok algorithm"
   ]
  },
  {
   "cell_type": "code",
   "execution_count": 505,
   "metadata": {},
   "outputs": [],
   "source": [
    "if suggested_words := video_details.get(\"suggestedWords\"):\n",
    "    suggested_words = \" / \".join(suggested_words)\n",
    "else:\n",
    "    suggested_words = np.nan"
   ]
  },
  {
   "cell_type": "markdown",
   "metadata": {},
   "source": [
    "### Generate data and add to csv file"
   ]
  },
  {
   "cell_type": "code",
   "execution_count": 506,
   "metadata": {},
   "outputs": [],
   "source": [
    "# Gather video meta data\n",
    "meta_data = pyk.generate_data_row(video_obj=video_details)\n",
    "\n",
    "# Add custom desired info\n",
    "meta_data[\"suggested_words\"] = suggested_words\n",
    "meta_data[\"url\"] = url\n",
    "meta_data[\"english_transcript\"] = transcriptions.get(\"eng-US\", np.nan)\n",
    "meta_data[\"german_transcript\"] = transcriptions.get(\"deu-DE\", np.nan)\n",
    "\n",
    "if os.path.exists(\"./meta.csv\"):\n",
    "    df = pd.read_csv(\"meta.csv\", index_col=0)\n",
    "    meta_data = pd.concat([df, meta_data], ignore_index=True)\n",
    "else:\n",
    "    print(\"New file\")\n",
    "\n",
    "meta_data.to_csv(\"meta.csv\")"
   ]
  },
  {
   "cell_type": "code",
   "execution_count": null,
   "metadata": {},
   "outputs": [],
   "source": []
  }
 ],
 "metadata": {
  "kernelspec": {
   "display_name": "Python 3 (ipykernel)",
   "language": "python",
   "name": "python3"
  },
  "language_info": {
   "codemirror_mode": {
    "name": "ipython",
    "version": 3
   },
   "file_extension": ".py",
   "mimetype": "text/x-python",
   "name": "python",
   "nbconvert_exporter": "python",
   "pygments_lexer": "ipython3",
   "version": "3.12.3"
  }
 },
 "nbformat": 4,
 "nbformat_minor": 4
}
