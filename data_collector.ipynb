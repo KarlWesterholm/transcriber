{
 "cells": [
  {
   "cell_type": "code",
   "execution_count": 35,
   "metadata": {},
   "outputs": [],
   "source": [
    "import io\n",
    "import requests\n",
    "from datetime import datetime\n",
    "\n",
    "import numpy as np\n",
    "import pandas as pd\n",
    "import webvtt\n",
    "import pyktok as pyk\n",
    "\n",
    "pyk.specify_browser(\"chrome\")"
   ]
  },
  {
   "cell_type": "code",
   "execution_count": 8,
   "metadata": {},
   "outputs": [],
   "source": [
    "user_agent = \"Mozilla/5.0 (Windows NT 10.0; Win64; x64) AppleWebKit/537.36 (KHTML, like Gecko) Chrome/123.0.0.0 Safari/537.36\"\n",
    "headers = {\"User-Agent\": user_agent}"
   ]
  },
  {
   "cell_type": "code",
   "execution_count": 9,
   "metadata": {},
   "outputs": [],
   "source": [
    "url = \"https://www.tiktok.com/@tiktok/video/7361448925972155679?lang=en\""
   ]
  },
  {
   "cell_type": "code",
   "execution_count": 37,
   "metadata": {},
   "outputs": [
    {
     "data": {
      "text/plain": [
       "'https://v16-webapp.tiktok.com/6e771abe71f56aa5a03f1f9fa5963abf/662e68e0/video/tos/maliva/tos-maliva-v-0068c799-us/48ce321d98024465bddf55106de28219/?a=1988&bti=ODszNWYuMDE6&ch=0&cr=3&dr=0&lr=unwatermarked&cd=0%7C0%7C0%7C&cv=1&br=9982&bt=4991&cs=0&ds=6&ft=4b~OyMFx8Zmo0_-rd-4jV5B1upWrKsd.&mime_type=video_mp4&qs=13&rc=Mzx3aWw5cjtrcjMzaTgzNEBpMzx3aWw5cjtrcjMzaTgzNEAvcnBrMmQ0b2hgLS1kLzJzYSMvcnBrMmQ0b2hgLS1kLzJzcw%3D%3D&l=202404280916435F1B3660E96D00234FC0&btag=e00050000'"
      ]
     },
     "execution_count": 37,
     "metadata": {},
     "output_type": "execute_result"
    }
   ],
   "source": [
    "tt_json = pyk.alt_get_tiktok_json(url)\n",
    "\n",
    "video_details = tt_json[\"__DEFAULT_SCOPE__\"][\"webapp.video-detail\"][\"itemInfo\"][\"itemStruct\"]\n",
    "\n",
    "for info in video_details[\"video\"][\"subtitleInfos\"]:\n",
    "    if info[\"LanguageCodeName\"] == \"eng-US\":\n",
    "        vtt_link = info[\"Url\"]\n",
    "        break\n",
    "\n",
    "vtt_link"
   ]
  },
  {
   "cell_type": "code",
   "execution_count": 29,
   "metadata": {},
   "outputs": [
    {
     "data": {
      "text/plain": [
       "\"WEBVTT\\n\\n\\n00:00:00.080 --> 00:00:01.920\\nHi, everyone. It's show here.\\n\\n00:00:01.921 --> 00:00:02.801\\nAs you may have heard,\\n\\n00:00:02.802 --> 00:00:05.641\\nCongress passed the Bill that the president signed into law\\n\\n00:00:05.642 --> 00:00:08.721\\nthat is designed to ban TikTok in the United States.\\n\\n00:00:08.722 --> 00:00:13.001\\nThat will take TikTok away from you and 170 million Americans\\n\\n00:00:13.002 --> 00:00:16.581\\nwho find community and connection on all platform.\\n\\n00:00:16.720 --> 00:00:17.880\\nMake no mistake,\\n\\n00:00:17.881 --> 00:00:19.421\\nthis is a ban.\\n\\n00:00:19.520 --> 00:00:23.060\\nA ban on TikTok and a ban on you and your voice.\\n\\n00:00:23.080 --> 00:00:24.760\\nPoliticians may see otherwise,\\n\\n00:00:24.761 --> 00:00:25.841\\nbut don't get confused.\\n\\n00:00:25.842 --> 00:00:30.581\\nMany who sponsored the Bill admit a TikTok ban is the ultimate goal.\\n\\n00:00:30.880 --> 00:00:32.600\\nIt's obviously a disappointing moment,\\n\\n00:00:32.601 --> 00:00:35.241\\nbut it does not need to be a defining one.\\n\\n00:00:35.242 --> 00:00:36.241\\nIt's actually ironic\\n\\n00:00:36.242 --> 00:00:38.601\\nbecause the freedom of expression on TikTok\\n\\n00:00:38.602 --> 00:00:40.921\\nreflects the same American values\\n\\n00:00:40.922 --> 00:00:43.581\\nthat make the United States a beacon of freedom.\\n\\n00:00:43.720 --> 00:00:48.280\\nTikTok gives everyday Americans a powerful way to be seen and heard.\\n\\n00:00:48.281 --> 00:00:51.161\\nAnd that's why so many people have been TikTok\\n\\n00:00:51.162 --> 00:00:52.721\\npart of their daily lives.\\n\\n00:00:52.722 --> 00:00:55.121\\nRest assured, we aren't going anywhere.\\n\\n00:00:55.122 --> 00:00:56.161\\nWe are confident\\n\\n00:00:56.162 --> 00:00:59.261\\nand we will keep fighting for your rights in the courts.\\n\\n00:00:59.280 --> 00:01:02.480\\nThe facts and the Constitution are on our side,\\n\\n00:01:02.481 --> 00:01:05.181\\nand we expect to prevail again.\\n\\n00:01:05.440 --> 00:01:09.320\\nA community is filled with people with found acceptance and compassion.\\n\\n00:01:09.321 --> 00:01:12.481\\nOften, inspiration and encouragement increase their awareness\\n\\n00:01:12.482 --> 00:01:13.981\\nand brought into perspectives,\\n\\n00:01:14.000 --> 00:01:17.220\\nultimately adding more delight and joy to their lives.\\n\\n00:01:17.640 --> 00:01:21.440\\nOur community is also filled with 7 million business owners\\n\\n00:01:21.441 --> 00:01:24.041\\nwho have built dear likelihoods on TikTok.\\n\\n00:01:24.042 --> 00:01:25.721\\nWhile we make our case in court,\\n\\n00:01:25.722 --> 00:01:28.961\\nyou still be able to enjoy TikTok like you always. Have.\\n\\n00:01:28.962 --> 00:01:32.721\\nIn fact, if you have a story about how TikTok impacts your life,\\n\\n00:01:32.722 --> 00:01:34.201\\nwe love for you to share it,\\n\\n00:01:34.202 --> 00:01:36.701\\nto showcase exactly what we're fighting for.\\n\\n00:01:36.840 --> 00:01:37.400\\nMeanwhile,\\n\\n00:01:37.401 --> 00:01:41.261\\nwe will continue to invest and innovate to keep our community vibrant,\\n\\n00:01:41.320 --> 00:01:43.000\\nexciting, and safe.\\n\\n00:01:43.001 --> 00:01:45.081\\nThrough our US data security efforts,\\n\\n00:01:45.082 --> 00:01:48.821\\nwe have built safeguards that no other pure company has made.\\n\\n00:01:49.040 --> 00:01:52.080\\nWe have invested billions of dollars to secure your data\\n\\n00:01:52.081 --> 00:01:54.221\\nand keep our platform free\\n\\n00:01:54.240 --> 00:01:55.760\\nfrom outside manipulation.\\n\\n00:01:55.761 --> 00:01:57.161\\nI can't say this enough.\\n\\n00:01:57.162 --> 00:01:58.281\\nThis extraordinary,\\n\\n00:01:58.282 --> 00:02:01.721\\ndiverse community is what makes TikTok so special,\\n\\n00:02:01.722 --> 00:02:04.101\\nwhat makes it matter, and what makes it meaningful.\\n\\n00:02:04.200 --> 00:02:07.640\\nAnd we'll keep working to ensure you will always have the opportunity,\\n\\n00:02:07.641 --> 00:02:12.810\\nthe safety, and the freedom to enjoy all TikTok has to offer. Thank you.\\n\""
      ]
     },
     "execution_count": 29,
     "metadata": {},
     "output_type": "execute_result"
    }
   ],
   "source": [
    "result = requests.get(vtt_link, headers=headers)\n",
    "vtt = result.content.decode()\n",
    "vtt"
   ]
  },
  {
   "cell_type": "code",
   "execution_count": 32,
   "metadata": {},
   "outputs": [
    {
     "data": {
      "text/plain": [
       "\"Hi, everyone. It's show here. As you may have heard, Congress passed the Bill that the president signed into law that is designed to ban TikTok in the United States. That will take TikTok away from you and 170 million Americans who find community and connection on all platform. Make no mistake, this is a ban. A ban on TikTok and a ban on you and your voice. Politicians may see otherwise, but don't get confused. Many who sponsored the Bill admit a TikTok ban is the ultimate goal. It's obviously a disappointing moment, but it does not need to be a defining one. It's actually ironic because the freedom of expression on TikTok reflects the same American values that make the United States a beacon of freedom. TikTok gives everyday Americans a powerful way to be seen and heard. And that's why so many people have been TikTok part of their daily lives. Rest assured, we aren't going anywhere. We are confident and we will keep fighting for your rights in the courts. The facts and the Constitution are on our side, and we expect to prevail again. A community is filled with people with found acceptance and compassion. Often, inspiration and encouragement increase their awareness and brought into perspectives, ultimately adding more delight and joy to their lives. Our community is also filled with 7 million business owners who have built dear likelihoods on TikTok. While we make our case in court, you still be able to enjoy TikTok like you always. Have. In fact, if you have a story about how TikTok impacts your life, we love for you to share it, to showcase exactly what we're fighting for. Meanwhile, we will continue to invest and innovate to keep our community vibrant, exciting, and safe. Through our US data security efforts, we have built safeguards that no other pure company has made. We have invested billions of dollars to secure your data and keep our platform free from outside manipulation. I can't say this enough. This extraordinary, diverse community is what makes TikTok so special, what makes it matter, and what makes it meaningful. And we'll keep working to ensure you will always have the opportunity, the safety, and the freedom to enjoy all TikTok has to offer. Thank you. \""
      ]
     },
     "execution_count": 32,
     "metadata": {},
     "output_type": "execute_result"
    }
   ],
   "source": [
    "transcript = \"\"\n",
    "\n",
    "for caption in webvtt.read_buffer(io.StringIO(vtt)):\n",
    "    # Eng requires extra space between caption texts\n",
    "    transcript += f\"{caption.text} \"\n",
    "\n",
    "transcript"
   ]
  },
  {
   "cell_type": "code",
   "execution_count": 55,
   "metadata": {},
   "outputs": [],
   "source": [
    "def generate_data_row(video_obj):\n",
    "    data_header = ['video_id',\n",
    "                   'video_timestamp',\n",
    "                   'video_duration',\n",
    "                   'video_locationcreated',\n",
    "                   'video_diggcount',\n",
    "                   'video_sharecount',\n",
    "                   'video_commentcount',\n",
    "                   'video_playcount',\n",
    "                   'video_description',\n",
    "                   'video_is_ad',\n",
    "                   'video_stickers',\n",
    "                   'author_username',\n",
    "                   'author_name',\n",
    "                   'author_followercount',\n",
    "                   'author_followingcount',\n",
    "                   'author_heartcount',\n",
    "                   'author_videocount',\n",
    "                   'author_diggcount',\n",
    "                   'author_verified',\n",
    "                   'suggested_words',\n",
    "                   'transcript']\n",
    "    data_list = []\n",
    "    data_list.append(video_obj['id'])\n",
    "    try:\n",
    "        ctime = video_obj['createTime']\n",
    "        data_list.append(datetime.fromtimestamp(int(ctime)).isoformat())\n",
    "    except Exception:\n",
    "        data_list.append('')\n",
    "    try:\n",
    "        data_list.append(video_obj['video']['duration'])\n",
    "    except Exception:\n",
    "        data_list.append(np.nan)\n",
    "    try:\n",
    "        data_list.append(video_obj['locationCreated'])\n",
    "    except Exception:\n",
    "        data_list.append('')\n",
    "    try:\n",
    "        data_list.append(video_obj['stats']['diggCount'])\n",
    "    except Exception:\n",
    "        data_list.append(np.nan)\n",
    "    try:\n",
    "        data_list.append(video_obj['stats']['shareCount'])\n",
    "    except Exception:\n",
    "        data_list.append(np.nan)\n",
    "    try:\n",
    "        data_list.append(video_obj['stats']['commentCount'])\n",
    "    except Exception:\n",
    "        data_list.append(np.nan)\n",
    "    try:\n",
    "        data_list.append(video_obj['stats']['playCount'])\n",
    "    except Exception:\n",
    "        data_list.append(np.nan)\n",
    "    try:\n",
    "        data_list.append(video_obj['desc'])\n",
    "    except Exception:\n",
    "        data_list.append('')\n",
    "    try:\n",
    "        data_list.append(video_obj['isAd'])\n",
    "    except Exception:\n",
    "        data_list.append(False)\n",
    "    try:\n",
    "        video_stickers = []\n",
    "        for sticker in video_obj['stickersOnItem']:\n",
    "            for text in sticker['stickerText']:\n",
    "                video_stickers.append(text)\n",
    "        data_list.append(';'.join(video_stickers))\n",
    "    except Exception:\n",
    "        data_list.append('')\n",
    "    try:\n",
    "        data_list.append(video_obj['author']['uniqueId'])\n",
    "    except Exception:\n",
    "        try:\n",
    "            data_list.append(video_obj['author'])\n",
    "        except Exception:\n",
    "            data_list.append('')\n",
    "    try:\n",
    "        data_list.append(video_obj['author']['nickname'])\n",
    "    except Exception:\n",
    "        try:\n",
    "            data_list.append(video_obj['nickname'])\n",
    "        except Exception:\n",
    "            data_list.append('')\n",
    "    try:\n",
    "        data_list.append(video_obj['authorStats']['followerCount'])\n",
    "    except Exception:\n",
    "        data_list.append(np.nan)\n",
    "    try:\n",
    "        data_list.append(video_obj['authorStats']['followingCount'])\n",
    "    except Exception:\n",
    "        data_list.append(np.nan)\n",
    "    try:\n",
    "        data_list.append(video_obj['authorStats']['heartCount'])\n",
    "    except Exception:\n",
    "        data_list.append(np.nan)\n",
    "    try:\n",
    "        data_list.append(video_obj['authorStats']['videoCount'])\n",
    "    except Exception:\n",
    "        data_list.append(np.nan)\n",
    "    try:\n",
    "        data_list.append(video_obj['authorStats']['diggCount'])\n",
    "    except Exception:\n",
    "        data_list.append(np.nan)\n",
    "    try:\n",
    "        data_list.append(video_obj['author']['verified'])\n",
    "    except Exception:\n",
    "        data_list.append(False)\n",
    "    try:\n",
    "        data_list.append(\" / \".join(video_obj['suggestedWords']))\n",
    "    except Exception:\n",
    "        data_list.append(np.nan)\n",
    "    data_list.append(transcript)\n",
    "\n",
    "    data_row = pd.DataFrame(dict(zip(data_header,data_list)), index=[0])\n",
    "    return data_row"
   ]
  },
  {
   "cell_type": "code",
   "execution_count": 56,
   "metadata": {},
   "outputs": [],
   "source": [
    "meta_data = generate_data_row(video_obj=video_details)\n",
    "\n",
    "meta_data.to_csv(\"meta.csv\")"
   ]
  },
  {
   "cell_type": "code",
   "execution_count": null,
   "metadata": {},
   "outputs": [],
   "source": []
  }
 ],
 "metadata": {
  "kernelspec": {
   "display_name": "transcriber",
   "language": "python",
   "name": "python3"
  },
  "language_info": {
   "codemirror_mode": {
    "name": "ipython",
    "version": 3
   },
   "file_extension": ".py",
   "mimetype": "text/x-python",
   "name": "python",
   "nbconvert_exporter": "python",
   "pygments_lexer": "ipython3",
   "version": "3.12.3"
  }
 },
 "nbformat": 4,
 "nbformat_minor": 2
}
